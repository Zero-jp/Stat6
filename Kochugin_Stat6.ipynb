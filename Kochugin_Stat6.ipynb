{
  "nbformat": 4,
  "nbformat_minor": 0,
  "metadata": {
    "colab": {
      "name": "Kochugin_Stat6.ipynb",
      "provenance": []
    },
    "kernelspec": {
      "name": "python3",
      "display_name": "Python 3"
    },
    "language_info": {
      "name": "python"
    }
  },
  "cells": [
    {
      "cell_type": "code",
      "execution_count": 5,
      "metadata": {
        "colab": {
          "base_uri": "https://localhost:8080/",
          "height": 677
        },
        "id": "rgLPaDOIp6hy",
        "outputId": "9c61eba3-71ea-44a2-bb3b-8ff23763b55d"
      },
      "outputs": [
        {
          "output_type": "execute_result",
          "data": {
            "text/html": [
              "\n",
              "  <div id=\"df-1723a4a3-e190-4794-9fbb-4d18df7d88e7\">\n",
              "    <div class=\"colab-df-container\">\n",
              "      <div>\n",
              "<style scoped>\n",
              "    .dataframe tbody tr th:only-of-type {\n",
              "        vertical-align: middle;\n",
              "    }\n",
              "\n",
              "    .dataframe tbody tr th {\n",
              "        vertical-align: top;\n",
              "    }\n",
              "\n",
              "    .dataframe thead th {\n",
              "        text-align: right;\n",
              "    }\n",
              "</style>\n",
              "<table border=\"1\" class=\"dataframe\">\n",
              "  <thead>\n",
              "    <tr style=\"text-align: right;\">\n",
              "      <th></th>\n",
              "      <th>X</th>\n",
              "      <th>Y</th>\n",
              "    </tr>\n",
              "  </thead>\n",
              "  <tbody>\n",
              "    <tr>\n",
              "      <th>0</th>\n",
              "      <td>3.1</td>\n",
              "      <td>4.5</td>\n",
              "    </tr>\n",
              "    <tr>\n",
              "      <th>1</th>\n",
              "      <td>2.6</td>\n",
              "      <td>3.6</td>\n",
              "    </tr>\n",
              "    <tr>\n",
              "      <th>2</th>\n",
              "      <td>4.5</td>\n",
              "      <td>7.0</td>\n",
              "    </tr>\n",
              "    <tr>\n",
              "      <th>3</th>\n",
              "      <td>2.5</td>\n",
              "      <td>3.8</td>\n",
              "    </tr>\n",
              "    <tr>\n",
              "      <th>4</th>\n",
              "      <td>4.5</td>\n",
              "      <td>6.5</td>\n",
              "    </tr>\n",
              "    <tr>\n",
              "      <th>5</th>\n",
              "      <td>2.7</td>\n",
              "      <td>4.0</td>\n",
              "    </tr>\n",
              "    <tr>\n",
              "      <th>6</th>\n",
              "      <td>3.9</td>\n",
              "      <td>6.1</td>\n",
              "    </tr>\n",
              "    <tr>\n",
              "      <th>7</th>\n",
              "      <td>4.8</td>\n",
              "      <td>7.2</td>\n",
              "    </tr>\n",
              "    <tr>\n",
              "      <th>8</th>\n",
              "      <td>4.5</td>\n",
              "      <td>6.7</td>\n",
              "    </tr>\n",
              "    <tr>\n",
              "      <th>9</th>\n",
              "      <td>3.2</td>\n",
              "      <td>4.5</td>\n",
              "    </tr>\n",
              "    <tr>\n",
              "      <th>10</th>\n",
              "      <td>3.3</td>\n",
              "      <td>5.1</td>\n",
              "    </tr>\n",
              "    <tr>\n",
              "      <th>11</th>\n",
              "      <td>4.1</td>\n",
              "      <td>6.1</td>\n",
              "    </tr>\n",
              "    <tr>\n",
              "      <th>12</th>\n",
              "      <td>3.1</td>\n",
              "      <td>4.5</td>\n",
              "    </tr>\n",
              "    <tr>\n",
              "      <th>13</th>\n",
              "      <td>2.7</td>\n",
              "      <td>4.5</td>\n",
              "    </tr>\n",
              "    <tr>\n",
              "      <th>14</th>\n",
              "      <td>4.2</td>\n",
              "      <td>6.2</td>\n",
              "    </tr>\n",
              "    <tr>\n",
              "      <th>15</th>\n",
              "      <td>4.5</td>\n",
              "      <td>6.9</td>\n",
              "    </tr>\n",
              "    <tr>\n",
              "      <th>16</th>\n",
              "      <td>3.5</td>\n",
              "      <td>5.2</td>\n",
              "    </tr>\n",
              "    <tr>\n",
              "      <th>17</th>\n",
              "      <td>4.9</td>\n",
              "      <td>7.5</td>\n",
              "    </tr>\n",
              "    <tr>\n",
              "      <th>18</th>\n",
              "      <td>2.9</td>\n",
              "      <td>4.3</td>\n",
              "    </tr>\n",
              "    <tr>\n",
              "      <th>19</th>\n",
              "      <td>3.7</td>\n",
              "      <td>5.5</td>\n",
              "    </tr>\n",
              "  </tbody>\n",
              "</table>\n",
              "</div>\n",
              "      <button class=\"colab-df-convert\" onclick=\"convertToInteractive('df-1723a4a3-e190-4794-9fbb-4d18df7d88e7')\"\n",
              "              title=\"Convert this dataframe to an interactive table.\"\n",
              "              style=\"display:none;\">\n",
              "        \n",
              "  <svg xmlns=\"http://www.w3.org/2000/svg\" height=\"24px\"viewBox=\"0 0 24 24\"\n",
              "       width=\"24px\">\n",
              "    <path d=\"M0 0h24v24H0V0z\" fill=\"none\"/>\n",
              "    <path d=\"M18.56 5.44l.94 2.06.94-2.06 2.06-.94-2.06-.94-.94-2.06-.94 2.06-2.06.94zm-11 1L8.5 8.5l.94-2.06 2.06-.94-2.06-.94L8.5 2.5l-.94 2.06-2.06.94zm10 10l.94 2.06.94-2.06 2.06-.94-2.06-.94-.94-2.06-.94 2.06-2.06.94z\"/><path d=\"M17.41 7.96l-1.37-1.37c-.4-.4-.92-.59-1.43-.59-.52 0-1.04.2-1.43.59L10.3 9.45l-7.72 7.72c-.78.78-.78 2.05 0 2.83L4 21.41c.39.39.9.59 1.41.59.51 0 1.02-.2 1.41-.59l7.78-7.78 2.81-2.81c.8-.78.8-2.07 0-2.86zM5.41 20L4 18.59l7.72-7.72 1.47 1.35L5.41 20z\"/>\n",
              "  </svg>\n",
              "      </button>\n",
              "      \n",
              "  <style>\n",
              "    .colab-df-container {\n",
              "      display:flex;\n",
              "      flex-wrap:wrap;\n",
              "      gap: 12px;\n",
              "    }\n",
              "\n",
              "    .colab-df-convert {\n",
              "      background-color: #E8F0FE;\n",
              "      border: none;\n",
              "      border-radius: 50%;\n",
              "      cursor: pointer;\n",
              "      display: none;\n",
              "      fill: #1967D2;\n",
              "      height: 32px;\n",
              "      padding: 0 0 0 0;\n",
              "      width: 32px;\n",
              "    }\n",
              "\n",
              "    .colab-df-convert:hover {\n",
              "      background-color: #E2EBFA;\n",
              "      box-shadow: 0px 1px 2px rgba(60, 64, 67, 0.3), 0px 1px 3px 1px rgba(60, 64, 67, 0.15);\n",
              "      fill: #174EA6;\n",
              "    }\n",
              "\n",
              "    [theme=dark] .colab-df-convert {\n",
              "      background-color: #3B4455;\n",
              "      fill: #D2E3FC;\n",
              "    }\n",
              "\n",
              "    [theme=dark] .colab-df-convert:hover {\n",
              "      background-color: #434B5C;\n",
              "      box-shadow: 0px 1px 3px 1px rgba(0, 0, 0, 0.15);\n",
              "      filter: drop-shadow(0px 1px 2px rgba(0, 0, 0, 0.3));\n",
              "      fill: #FFFFFF;\n",
              "    }\n",
              "  </style>\n",
              "\n",
              "      <script>\n",
              "        const buttonEl =\n",
              "          document.querySelector('#df-1723a4a3-e190-4794-9fbb-4d18df7d88e7 button.colab-df-convert');\n",
              "        buttonEl.style.display =\n",
              "          google.colab.kernel.accessAllowed ? 'block' : 'none';\n",
              "\n",
              "        async function convertToInteractive(key) {\n",
              "          const element = document.querySelector('#df-1723a4a3-e190-4794-9fbb-4d18df7d88e7');\n",
              "          const dataTable =\n",
              "            await google.colab.kernel.invokeFunction('convertToInteractive',\n",
              "                                                     [key], {});\n",
              "          if (!dataTable) return;\n",
              "\n",
              "          const docLinkHtml = 'Like what you see? Visit the ' +\n",
              "            '<a target=\"_blank\" href=https://colab.research.google.com/notebooks/data_table.ipynb>data table notebook</a>'\n",
              "            + ' to learn more about interactive tables.';\n",
              "          element.innerHTML = '';\n",
              "          dataTable['output_type'] = 'display_data';\n",
              "          await google.colab.output.renderOutput(dataTable, element);\n",
              "          const docLink = document.createElement('div');\n",
              "          docLink.innerHTML = docLinkHtml;\n",
              "          element.appendChild(docLink);\n",
              "        }\n",
              "      </script>\n",
              "    </div>\n",
              "  </div>\n",
              "  "
            ],
            "text/plain": [
              "      X    Y\n",
              "0   3.1  4.5\n",
              "1   2.6  3.6\n",
              "2   4.5  7.0\n",
              "3   2.5  3.8\n",
              "4   4.5  6.5\n",
              "5   2.7  4.0\n",
              "6   3.9  6.1\n",
              "7   4.8  7.2\n",
              "8   4.5  6.7\n",
              "9   3.2  4.5\n",
              "10  3.3  5.1\n",
              "11  4.1  6.1\n",
              "12  3.1  4.5\n",
              "13  2.7  4.5\n",
              "14  4.2  6.2\n",
              "15  4.5  6.9\n",
              "16  3.5  5.2\n",
              "17  4.9  7.5\n",
              "18  2.9  4.3\n",
              "19  3.7  5.5"
            ]
          },
          "metadata": {},
          "execution_count": 5
        }
      ],
      "source": [
        "import pandas as pd\n",
        "df = pd.read_excel('sample_data/data.xls')\n",
        "df.loc[-1] = df.columns\n",
        "df.index = df.index + 1\n",
        "df = df.sort_index()\n",
        "df.columns = ['X', 'Y']\n",
        "df"
      ]
    },
    {
      "cell_type": "markdown",
      "source": [
        "Построим уравнение линейной регрессионной зависимости длины листовой пластины от ширины:"
      ],
      "metadata": {
        "id": "9exXEA0zeLKI"
      }
    },
    {
      "cell_type": "code",
      "source": [
        "df.plot(x=\"X\", y=\"Y\", kind=\"scatter\")"
      ],
      "metadata": {
        "id": "R5S0bvAJqbwv",
        "colab": {
          "base_uri": "https://localhost:8080/",
          "height": 296
        },
        "outputId": "165f3e8a-0a29-40c0-d391-dc6c64df6749"
      },
      "execution_count": 6,
      "outputs": [
        {
          "output_type": "execute_result",
          "data": {
            "text/plain": [
              "<matplotlib.axes._subplots.AxesSubplot at 0x7f9749a32310>"
            ]
          },
          "metadata": {},
          "execution_count": 6
        },
        {
          "output_type": "display_data",
          "data": {
            "image/png": "[encoded data removed]",
            "text/plain": [
              "<Figure size 432x288 with 1 Axes>"
            ]
          },
          "metadata": {
            "needs_background": "light"
          }
        }
      ]
    },
    {
      "cell_type": "markdown",
      "source": [
        "По тому, как расположены на плоскость значения проверю, что зависимость линейна:\n",
        "\n",
        "Y = aX + b"
      ],
      "metadata": {
        "id": "a4CPsXxvhRKc"
      }
    },
    {
      "cell_type": "code",
      "source": [
        "import numpy as np\n",
        "x_mid = np.mean(df['X'])\n",
        "y_mid = np.mean(df['Y'])\n",
        "x_std = np.std(df['X'])\n",
        "y_std = np.std(df['Y'])\n",
        "print('M(x)=', x_mid, 'M(y)=', y_mid, 's(x)=', x_std, 's(y)=', y_std)"
      ],
      "metadata": {
        "colab": {
          "base_uri": "https://localhost:8080/"
        },
        "id": "4vPM3fySiSRk",
        "outputId": "9e1a05b1-5b5e-4b78-e753-f067d6e57973"
      },
      "execution_count": 11,
      "outputs": [
        {
          "output_type": "stream",
          "name": "stdout",
          "text": [
            "M(x)= 3.660000000000001 M(y)= 5.485000000000001 s(x)= 0.7774316690230724 s(y)= 1.2080045529715524\n"
          ]
        }
      ]
    },
    {
      "cell_type": "code",
      "source": [
        "import scipy.stats as st\n",
        "r = st.pearsonr(df['X'], df['Y'])[0]\n",
        "print('Коэффициент коррелиации =', r)"
      ],
      "metadata": {
        "colab": {
          "base_uri": "https://localhost:8080/"
        },
        "id": "frkJ6L9TknIK",
        "outputId": "9a902965-1850-4164-c588-bb1a16c57dea"
      },
      "execution_count": 13,
      "outputs": [
        {
          "output_type": "stream",
          "name": "stdout",
          "text": [
            "Коэффициент коррелиации= 0.9880305557372465\n"
          ]
        }
      ]
    },
    {
      "cell_type": "markdown",
      "source": [
        "Вычислим коэффициенты a и b:"
      ],
      "metadata": {
        "id": "tvnih1dZmj4w"
      }
    },
    {
      "cell_type": "code",
      "source": [
        "a = r*y_std/x_std\n",
        "b = y_mid-r*y_std*x_mid/x_std\n",
        "print('y =', a, '* x +', b)"
      ],
      "metadata": {
        "colab": {
          "base_uri": "https://localhost:8080/"
        },
        "id": "pa5pdpvGmpsB",
        "outputId": "d004b788-6bc4-401a-c08c-df59eb105651"
      },
      "execution_count": 15,
      "outputs": [
        {
          "output_type": "stream",
          "name": "stdout",
          "text": [
            "y = 1.5352415618795499 * x + -0.13398411647915243\n"
          ]
        }
      ]
    },
    {
      "cell_type": "markdown",
      "source": [
        "Проверим значимость уравнения регрессии и отдельных коэффициентов:"
      ],
      "metadata": {
        "id": "O5UUdrNjnXNJ"
      }
    },
    {
      "cell_type": "code",
      "source": [
        "chisl = 0 \n",
        "for i in range(df.shape[0]):\n",
        "  chisl += (df['Y'][i]-a*df['X'][i]-b)**2\n",
        "Sost = (chisl / (df.shape[0]-2))**(1/2)\n",
        "print('Ошибка регрессии:', Sost)"
      ],
      "metadata": {
        "colab": {
          "base_uri": "https://localhost:8080/"
        },
        "id": "2aJdp5k9nc85",
        "outputId": "45f61ae2-7693-4771-9684-9acffc8b40f2"
      },
      "execution_count": 22,
      "outputs": [
        {
          "output_type": "stream",
          "name": "stdout",
          "text": [
            "Ошибка регрессии: 0.19642458188539083\n"
          ]
        }
      ]
    },
    {
      "cell_type": "code",
      "source": [
        "x_mid_dubble = np.mean(df['X']**2)\n",
        "Sa = Sost/(x_std*df.shape[0]**(1/2))\n",
        "Sb = Sost/(x_std*df.shape[0]**(1/2))*x_mid_dubble\n",
        "print('Стандартное отклонение a:', Sa)\n",
        "print('Стандартное отклонение b:', Sb)"
      ],
      "metadata": {
        "colab": {
          "base_uri": "https://localhost:8080/"
        },
        "id": "2IjCSlhen6Bi",
        "outputId": "587acb71-4561-4e5e-f037-8e134a3c4b0f"
      },
      "execution_count": 32,
      "outputs": [
        {
          "output_type": "stream",
          "name": "stdout",
          "text": [
            "Стандартное отклонение a: 0.056496118572019825\n",
            "Стандартное отклонение b: 0.7909456600082776\n"
          ]
        }
      ]
    },
    {
      "cell_type": "markdown",
      "source": [
        "t-статистика:"
      ],
      "metadata": {
        "id": "7mzHCqP2p6-D"
      }
    },
    {
      "cell_type": "code",
      "source": [
        "ta = a/Sa\n",
        "tb = b/Sb\n",
        "print('ta:', ta)\n",
        "print('tb:', tb)"
      ],
      "metadata": {
        "colab": {
          "base_uri": "https://localhost:8080/"
        },
        "id": "CL9n4jkBpED-",
        "outputId": "00d2324a-bf76-468d-aa7b-2185cf6dc41d"
      },
      "execution_count": 33,
      "outputs": [
        {
          "output_type": "stream",
          "name": "stdout",
          "text": [
            "ta: 27.174283839029805\n",
            "tb: -0.1693973723526724\n"
          ]
        }
      ]
    },
    {
      "cell_type": "markdown",
      "source": [
        "Критическое значение: 2,1009(при альфа=0,05)"
      ],
      "metadata": {
        "id": "83q5tHgOqdsJ"
      }
    },
    {
      "cell_type": "code",
      "source": [
        "control_a = control_b = False\n",
        "if ta < 2.1009 :\n",
        "  print('Коэффициент a незначим')\n",
        "  control_a = True\n",
        "if tb < 2.1009 :\n",
        "  print('Коэффициент b незначим')\n",
        "  control_b = True\n",
        "print('Итоговое уравнение:')\n",
        "if control_a:\n",
        "  print('y = const + otkl')\n",
        "elif control_b:\n",
        "  print('y =', a, '* x')"
      ],
      "metadata": {
        "colab": {
          "base_uri": "https://localhost:8080/"
        },
        "id": "4h40dtU_p_7A",
        "outputId": "c0319022-ebf3-4038-8aac-5c778111c536"
      },
      "execution_count": 36,
      "outputs": [
        {
          "output_type": "stream",
          "name": "stdout",
          "text": [
            "Коэффициент b незначим\n",
            "Итоговое уравнение:\n",
            "y = 1.5352415618795499 * x\n"
          ]
        }
      ]
    },
    {
      "cell_type": "code",
      "source": [
        ""
      ],
      "metadata": {
        "id": "KWUWMeJdr3fg"
      },
      "execution_count": null,
      "outputs": []
    }
  ]
}
